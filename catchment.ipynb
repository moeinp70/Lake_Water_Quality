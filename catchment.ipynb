{
 "cells": [
  {
   "cell_type": "code",
   "execution_count": 1,
   "id": "cf893da1",
   "metadata": {},
   "outputs": [],
   "source": [
    "import geopandas as gpd\n",
    "import pandas as pd\n",
    "import networkx as nx\n",
    "\n",
    "# Load all regional catchments (Level 8, customized with lakes)\n",
    "catchments_sa = gpd.read_file(\"sa/hybas_lake_sa_lev08_v1c.shp\")\n",
    "catchments_na = gpd.read_file(\"na/hybas_lake_na_lev08_v1c.shp\")\n",
    "catchments_ar = gpd.read_file(\"ar/hybas_lake_ar_lev08_v1c.shp\")"
   ]
  },
  {
   "cell_type": "code",
   "execution_count": 2,
   "id": "e2f3824d",
   "metadata": {},
   "outputs": [],
   "source": [
    "# Merge all catchments\n",
    "catchments = pd.concat([catchments_sa, catchments_na, catchments_ar], ignore_index=True)\n",
    "catchments = gpd.GeoDataFrame(catchments, crs=catchments_sa.crs)"
   ]
  },
  {
   "cell_type": "code",
   "execution_count": 3,
   "id": "8f419740",
   "metadata": {},
   "outputs": [],
   "source": [
    "# Load your lake polygons\n",
    "lakes = gpd.read_file(\"lakes/CCILakesV202_Laura.shp\")"
   ]
  },
  {
   "cell_type": "code",
   "execution_count": 4,
   "id": "744e750f",
   "metadata": {},
   "outputs": [],
   "source": [
    "# Ensure CRS match\n",
    "if lakes.crs != catchments.crs:\n",
    "    lakes = lakes.to_crs(catchments.crs)\n",
    "\n",
    "# Spatial join: find lake-containing catchments\n",
    "matched = gpd.sjoin(catchments[['HYBAS_ID', 'NEXT_DOWN', 'geometry']], lakes, how=\"inner\", predicate=\"intersects\")\n",
    "lake_hybas_ids = matched['HYBAS_ID'].unique()"
   ]
  },
  {
   "cell_type": "code",
   "execution_count": 5,
   "id": "8473788b",
   "metadata": {},
   "outputs": [],
   "source": [
    "# 4. Build a directed graph: edges point *downstream*\n",
    "G = nx.DiGraph()\n",
    "for i, row in catchments.iterrows():\n",
    "    src = row['HYBAS_ID']\n",
    "    dst = row['NEXT_DOWN']\n",
    "    if dst != 0:  # 0 means no downstream connection (e.g., ocean)\n",
    "        G.add_edge(dst, src)  # Reversed: we're interested in tracing *upstream*"
   ]
  },
  {
   "cell_type": "code",
   "execution_count": 7,
   "id": "a63edc62",
   "metadata": {},
   "outputs": [],
   "source": [
    "# 5. Collect upstream nodes for each lake catchment\n",
    "all_upstream_ids = set()\n",
    "for lake_id in lake_hybas_ids:\n",
    "    if lake_id in G:\n",
    "        upstream = nx.descendants(G, lake_id)\n",
    "        upstream.add(lake_id)  # Include the lake's own catchment\n",
    "        all_upstream_ids.update(upstream)\n",
    "\n",
    "# 6. Filter catchments by upstream IDs\n",
    "upstream_catchments = catchments[catchments['HYBAS_ID'].isin(all_upstream_ids)]\n"
   ]
  },
  {
   "cell_type": "code",
   "execution_count": 8,
   "id": "fe7002ca",
   "metadata": {},
   "outputs": [
    {
     "name": "stdout",
     "output_type": "stream",
     "text": [
      "✅ Exported 38285 catchments to 'LakeCatchments_Level8_WithUpstream_NX.shp'\n"
     ]
    }
   ],
   "source": [
    "# 7. Export\n",
    "upstream_catchments.to_file(\"LakeCatchments_Level8_WithUpstream_NX.shp\")\n",
    "print(f\"✅ Exported {len(upstream_catchments)} catchments to 'LakeCatchments_Level8_WithUpstream_NX.shp'\")"
   ]
  }
 ],
 "metadata": {
  "kernelspec": {
   "display_name": "se",
   "language": "python",
   "name": "python3"
  },
  "language_info": {
   "codemirror_mode": {
    "name": "ipython",
    "version": 3
   },
   "file_extension": ".py",
   "mimetype": "text/x-python",
   "name": "python",
   "nbconvert_exporter": "python",
   "pygments_lexer": "ipython3",
   "version": "3.13.2"
  }
 },
 "nbformat": 4,
 "nbformat_minor": 5
}
